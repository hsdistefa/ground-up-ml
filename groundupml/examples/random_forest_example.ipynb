{
 "cells": [
  {
   "cell_type": "code",
   "execution_count": 1,
   "metadata": {},
   "outputs": [],
   "source": [
    "import graphviz\n",
    "import matplotlib.pyplot as plt\n",
    "import networkx as nx\n",
    "import numpy as np\n",
    "\n",
    "from groundupml.supervised.random_forest import RandomForest\n",
    "\n",
    "%matplotlib inline"
   ]
  },
  {
   "cell_type": "code",
   "execution_count": 2,
   "metadata": {},
   "outputs": [
    {
     "name": "stdout",
     "output_type": "stream",
     "text": [
      "└────f0 <= 0\n",
      "      └──T──0\n",
      "      └──F──f1 <= 0\n",
      "            └──T──1\n",
      "            └──F──0\n",
      "\n",
      "└────f0 <= 0\n",
      "      ├──T──f1 <= 0\n",
      "      │      └──T──0\n",
      "      │      └──F──1\n",
      "      └──F──f1 <= 0\n",
      "            └──T──1\n",
      "            └──F──0\n",
      "\n",
      "└────f0 <= 0\n",
      "      ├──T──f1 <= 0\n",
      "      │      └──T──0\n",
      "      │      └──F──1\n",
      "      └──F──0\n",
      "\n"
     ]
    }
   ],
   "source": [
    "# Demonstrate forest can learn XOR function\n",
    "np.random.seed(2)  # Set seed for reproducibility\n",
    "X_train = np.array([[0, 0],\n",
    "                    [1, 0],\n",
    "                    [0, 1],\n",
    "                    [1, 1],\n",
    "                    [0, 0]])\n",
    "\n",
    "y_train = np.array([0, 1, 1, 0, 0])\n",
    "\n",
    "rf = RandomForest(n_trees=3, max_depth=5, impurity_func='gini')\n",
    "rf.fit(X_train, y_train)\n",
    "\n",
    "for tree in rf.trees:\n",
    "    print(tree)"
   ]
  },
  {
   "cell_type": "code",
   "execution_count": 3,
   "metadata": {},
   "outputs": [],
   "source": [
    "#def plot_tree(tree):\n",
    "#        G = nx.DiGraph()\n",
    "#        nodes = np.arange(0, 8).tolist()\n",
    "#        G.add_nodes_from(nodes)\n",
    "#        G.add_edges_from([(0, 1), (0, 2), (1, 3), (1, 4), (2, 5), (2, 6), (2, 7)])\n",
    "#\n",
    "#        pos = {0:(10, 10),\n",
    "#                1:(7.5, 7.5),\n",
    "#                2:(12.5, 7.5),\n",
    "#                3:(6, 6),\n",
    "#                4:(9, 6),\n",
    "#                5:(11, 6),\n",
    "#                6:(14, 6),\n",
    "#                7:(17, 6)}\n",
    "#\n",
    "#        labels = {0:'CEO', 1:'VP1', 2:'VP2', 3:'StaffA', 4:'StaffB', 5:'StaffC',\n",
    "#                6:'StaffD', 7:'StaffE'}\n",
    "#\n",
    "#        nx.draw_networkx(G, pos=pos, labels=labels, arrows=True, node_shape='s',\n",
    "#                        node_size=1000, node_color='w', font_size=10)\n",
    "#\n",
    "#        plt.title('Decision Tree')\n",
    "#\n",
    "#plot_tree(rf.trees[0])"
   ]
  },
  {
   "cell_type": "code",
   "execution_count": 4,
   "metadata": {},
   "outputs": [],
   "source": [
    "#def plot_tree(tree, feature_names=None, class_names=None, node_ids=False,\n",
    "#              ax=None, fontsize=12):\n",
    "#    \"\"\"Plots the learned tree model. Only works for binary classification.\n",
    "#    Args:\n",
    "#        tree (DecisionTree): The learned decision tree model to plot.\n",
    "#        feature_names (list): The names of the features.\n",
    "#        class_names (list): The names of the classes.\n",
    "#        node_ids (bool): Whether to display node ids.\n",
    "#        proportion (bool): Whether to display fraction of samples in each class.\n",
    "#        filled (bool): Whether to fill node boxes with colors.\n",
    "#        fontsize (int): Fontsize for text.\n",
    "#    \"\"\"\n",
    "#    def _plot_node(node, depth):\n",
    "#        if node.children == []:\n",
    "#            # Leaf Node\n",
    "#            ax.text(x=depth, y=0.5, s=node.value, va='center', ha='center')\n",
    "#            return max_depth\n",
    "#        else:\n",
    "#            # Non-leaf Node\n",
    "#            feature_name = feature_names[node.feature_index] if feature_names else \\\n",
    "#                node.feature_index\n",
    "#            threshold = node.threshold\n",
    "#            ax.text(x=depth, y=0.5, \n",
    "#                    s=f'{feature_name} <= {threshold:.2f}',\n",
    "#                    va='center', ha='center')\n",
    "#\n",
    "#            # Traverse the branches\n",
    "#            left_branch, right_branch = node.children\n",
    "#            max_depth_l = _plot_node(left_branch, depth=depth+1, max_depth=max_depth)\n",
    "#            max_depth_r = _plot_node(right_branch, depth=depth+1, max_depth=max_depth)\n",
    "#\n",
    "#            return np.max([max_depth_l, max_depth_r])\n",
    "#\n",
    "#\n",
    "#\n",
    "#    max_depth = _plot_node(tree.root, depth=1, max_depth=1)\n",
    "#\n",
    "#\n",
    "#plot_tree(rf.trees[0])"
   ]
  },
  {
   "cell_type": "code",
   "execution_count": 10,
   "metadata": {},
   "outputs": [
    {
     "name": "stdout",
     "output_type": "stream",
     "text": [
      "NON-LEAF\n",
      "adding leaf node\n"
     ]
    },
    {
     "ename": "TypeError",
     "evalue": "cannot use a string pattern on a bytes-like object",
     "output_type": "error",
     "traceback": [
      "\u001b[0;31m---------------------------------------------------------------------------\u001b[0m",
      "\u001b[0;31mTypeError\u001b[0m                                 Traceback (most recent call last)",
      "Cell \u001b[0;32mIn[10], line 30\u001b[0m\n\u001b[1;32m     25\u001b[0m     add_node(tree\u001b[39m.\u001b[39mroot)\n\u001b[1;32m     27\u001b[0m     \u001b[39mreturn\u001b[39;00m dot\u001b[39m.\u001b[39msource\n\u001b[0;32m---> 30\u001b[0m \u001b[39mprint\u001b[39m(export_graphviz(rf\u001b[39m.\u001b[39;49mtrees[\u001b[39m0\u001b[39;49m], feature_names\u001b[39m=\u001b[39;49m\u001b[39mNone\u001b[39;49;00m, class_names\u001b[39m=\u001b[39;49m\u001b[39mNone\u001b[39;49;00m))\n",
      "Cell \u001b[0;32mIn[10], line 25\u001b[0m, in \u001b[0;36mexport_graphviz\u001b[0;34m(tree, feature_names, class_names)\u001b[0m\n\u001b[1;32m     22\u001b[0m         add_node(left_child)\n\u001b[1;32m     23\u001b[0m         add_node(right_child)\n\u001b[0;32m---> 25\u001b[0m add_node(tree\u001b[39m.\u001b[39;49mroot)\n\u001b[1;32m     27\u001b[0m \u001b[39mreturn\u001b[39;00m dot\u001b[39m.\u001b[39msource\n",
      "Cell \u001b[0;32mIn[10], line 22\u001b[0m, in \u001b[0;36mexport_graphviz.<locals>.add_node\u001b[0;34m(node)\u001b[0m\n\u001b[1;32m     20\u001b[0m dot\u001b[39m.\u001b[39medge(node_id, \u001b[39mstr\u001b[39m(\u001b[39mid\u001b[39m(left_child)), label\u001b[39m=\u001b[39m\u001b[39m'\u001b[39m\u001b[39mTrue\u001b[39m\u001b[39m'\u001b[39m)\n\u001b[1;32m     21\u001b[0m dot\u001b[39m.\u001b[39medge(node_id, \u001b[39mstr\u001b[39m(\u001b[39mid\u001b[39m(right_child)), label\u001b[39m=\u001b[39m\u001b[39m'\u001b[39m\u001b[39mFalse\u001b[39m\u001b[39m'\u001b[39m)\n\u001b[0;32m---> 22\u001b[0m add_node(left_child)\n\u001b[1;32m     23\u001b[0m add_node(right_child)\n",
      "Cell \u001b[0;32mIn[10], line 11\u001b[0m, in \u001b[0;36mexport_graphviz.<locals>.add_node\u001b[0;34m(node)\u001b[0m\n\u001b[1;32m      9\u001b[0m     node_label \u001b[39m=\u001b[39m node\u001b[39m.\u001b[39mvalue\n\u001b[1;32m     10\u001b[0m     \u001b[39mprint\u001b[39m(\u001b[39m'\u001b[39m\u001b[39madding leaf node\u001b[39m\u001b[39m'\u001b[39m)\n\u001b[0;32m---> 11\u001b[0m     dot\u001b[39m.\u001b[39;49mnode(node_id, label\u001b[39m=\u001b[39;49mnode_label)\n\u001b[1;32m     12\u001b[0m \u001b[39melse\u001b[39;00m:\n\u001b[1;32m     13\u001b[0m     \u001b[39mprint\u001b[39m(\u001b[39m'\u001b[39m\u001b[39mNON-LEAF\u001b[39m\u001b[39m'\u001b[39m)\n",
      "File \u001b[0;32m~/anaconda3/envs/gupml-conda/lib/python3.10/site-packages/graphviz-0.20.1-py3.10.egg/graphviz/_tools.py:171\u001b[0m, in \u001b[0;36mdeprecate_positional_args.<locals>.decorator.<locals>.wrapper\u001b[0;34m(*args, **kwargs)\u001b[0m\n\u001b[1;32m    162\u001b[0m     wanted \u001b[39m=\u001b[39m \u001b[39m'\u001b[39m\u001b[39m, \u001b[39m\u001b[39m'\u001b[39m\u001b[39m.\u001b[39mjoin(\u001b[39mf\u001b[39m\u001b[39m'\u001b[39m\u001b[39m{\u001b[39;00mname\u001b[39m}\u001b[39;00m\u001b[39m=\u001b[39m\u001b[39m{\u001b[39;00mvalue\u001b[39m!r}\u001b[39;00m\u001b[39m'\u001b[39m\n\u001b[1;32m    163\u001b[0m                        \u001b[39mfor\u001b[39;00m name, value \u001b[39min\u001b[39;00m deprecated\u001b[39m.\u001b[39mitems())\n\u001b[1;32m    164\u001b[0m     warnings\u001b[39m.\u001b[39mwarn(\u001b[39mf\u001b[39m\u001b[39m'\u001b[39m\u001b[39mThe signature of \u001b[39m\u001b[39m{\u001b[39;00mfunc\u001b[39m.\u001b[39m\u001b[39m__name__\u001b[39m\u001b[39m}\u001b[39;00m\u001b[39m will be reduced\u001b[39m\u001b[39m'\u001b[39m\n\u001b[1;32m    165\u001b[0m                   \u001b[39mf\u001b[39m\u001b[39m'\u001b[39m\u001b[39m to \u001b[39m\u001b[39m{\u001b[39;00msupported_number\u001b[39m}\u001b[39;00m\u001b[39m positional args\u001b[39m\u001b[39m'\u001b[39m\n\u001b[1;32m    166\u001b[0m                   \u001b[39mf\u001b[39m\u001b[39m'\u001b[39m\u001b[39m \u001b[39m\u001b[39m{\u001b[39;00m\u001b[39mlist\u001b[39m(supported)\u001b[39m}\u001b[39;00m\u001b[39m: pass \u001b[39m\u001b[39m{\u001b[39;00mwanted\u001b[39m}\u001b[39;00m\u001b[39m'\u001b[39m\n\u001b[1;32m    167\u001b[0m                   \u001b[39m'\u001b[39m\u001b[39m as keyword arg(s)\u001b[39m\u001b[39m'\u001b[39m,\n\u001b[1;32m    168\u001b[0m                   stacklevel\u001b[39m=\u001b[39mstacklevel,\n\u001b[1;32m    169\u001b[0m                   category\u001b[39m=\u001b[39mcategory)\n\u001b[0;32m--> 171\u001b[0m \u001b[39mreturn\u001b[39;00m func(\u001b[39m*\u001b[39;49margs, \u001b[39m*\u001b[39;49m\u001b[39m*\u001b[39;49mkwargs)\n",
      "File \u001b[0;32m~/anaconda3/envs/gupml-conda/lib/python3.10/site-packages/graphviz-0.20.1-py3.10.egg/graphviz/dot.py:196\u001b[0m, in \u001b[0;36mDot.node\u001b[0;34m(self, name, label, _attributes, **attrs)\u001b[0m\n\u001b[1;32m    188\u001b[0m \u001b[39m\u001b[39m\u001b[39m\"\"\"Create a node.\u001b[39;00m\n\u001b[1;32m    189\u001b[0m \n\u001b[1;32m    190\u001b[0m \u001b[39mArgs:\u001b[39;00m\n\u001b[0;32m   (...)\u001b[0m\n\u001b[1;32m    193\u001b[0m \u001b[39m    attrs: Any additional node attributes (must be strings).\u001b[39;00m\n\u001b[1;32m    194\u001b[0m \u001b[39m\"\"\"\u001b[39;00m\n\u001b[1;32m    195\u001b[0m name \u001b[39m=\u001b[39m \u001b[39mself\u001b[39m\u001b[39m.\u001b[39m_quote(name)\n\u001b[0;32m--> 196\u001b[0m attr_list \u001b[39m=\u001b[39m \u001b[39mself\u001b[39;49m\u001b[39m.\u001b[39;49m_attr_list(label, kwargs\u001b[39m=\u001b[39;49mattrs, attributes\u001b[39m=\u001b[39;49m_attributes)\n\u001b[1;32m    197\u001b[0m line \u001b[39m=\u001b[39m \u001b[39mself\u001b[39m\u001b[39m.\u001b[39m_node(name, attr_list)\n\u001b[1;32m    198\u001b[0m \u001b[39mself\u001b[39m\u001b[39m.\u001b[39mbody\u001b[39m.\u001b[39mappend(line)\n",
      "File \u001b[0;32m~/anaconda3/envs/gupml-conda/lib/python3.10/site-packages/graphviz-0.20.1-py3.10.egg/graphviz/_tools.py:171\u001b[0m, in \u001b[0;36mdeprecate_positional_args.<locals>.decorator.<locals>.wrapper\u001b[0;34m(*args, **kwargs)\u001b[0m\n\u001b[1;32m    162\u001b[0m     wanted \u001b[39m=\u001b[39m \u001b[39m'\u001b[39m\u001b[39m, \u001b[39m\u001b[39m'\u001b[39m\u001b[39m.\u001b[39mjoin(\u001b[39mf\u001b[39m\u001b[39m'\u001b[39m\u001b[39m{\u001b[39;00mname\u001b[39m}\u001b[39;00m\u001b[39m=\u001b[39m\u001b[39m{\u001b[39;00mvalue\u001b[39m!r}\u001b[39;00m\u001b[39m'\u001b[39m\n\u001b[1;32m    163\u001b[0m                        \u001b[39mfor\u001b[39;00m name, value \u001b[39min\u001b[39;00m deprecated\u001b[39m.\u001b[39mitems())\n\u001b[1;32m    164\u001b[0m     warnings\u001b[39m.\u001b[39mwarn(\u001b[39mf\u001b[39m\u001b[39m'\u001b[39m\u001b[39mThe signature of \u001b[39m\u001b[39m{\u001b[39;00mfunc\u001b[39m.\u001b[39m\u001b[39m__name__\u001b[39m\u001b[39m}\u001b[39;00m\u001b[39m will be reduced\u001b[39m\u001b[39m'\u001b[39m\n\u001b[1;32m    165\u001b[0m                   \u001b[39mf\u001b[39m\u001b[39m'\u001b[39m\u001b[39m to \u001b[39m\u001b[39m{\u001b[39;00msupported_number\u001b[39m}\u001b[39;00m\u001b[39m positional args\u001b[39m\u001b[39m'\u001b[39m\n\u001b[1;32m    166\u001b[0m                   \u001b[39mf\u001b[39m\u001b[39m'\u001b[39m\u001b[39m \u001b[39m\u001b[39m{\u001b[39;00m\u001b[39mlist\u001b[39m(supported)\u001b[39m}\u001b[39;00m\u001b[39m: pass \u001b[39m\u001b[39m{\u001b[39;00mwanted\u001b[39m}\u001b[39;00m\u001b[39m'\u001b[39m\n\u001b[1;32m    167\u001b[0m                   \u001b[39m'\u001b[39m\u001b[39m as keyword arg(s)\u001b[39m\u001b[39m'\u001b[39m,\n\u001b[1;32m    168\u001b[0m                   stacklevel\u001b[39m=\u001b[39mstacklevel,\n\u001b[1;32m    169\u001b[0m                   category\u001b[39m=\u001b[39mcategory)\n\u001b[0;32m--> 171\u001b[0m \u001b[39mreturn\u001b[39;00m func(\u001b[39m*\u001b[39;49margs, \u001b[39m*\u001b[39;49m\u001b[39m*\u001b[39;49mkwargs)\n",
      "File \u001b[0;32m~/anaconda3/envs/gupml-conda/lib/python3.10/site-packages/graphviz-0.20.1-py3.10.egg/graphviz/quoting.py:152\u001b[0m, in \u001b[0;36mattr_list\u001b[0;34m(label, kwargs, attributes)\u001b[0m\n\u001b[1;32m    135\u001b[0m \u001b[39m@_tools\u001b[39m\u001b[39m.\u001b[39mdeprecate_positional_args(supported_number\u001b[39m=\u001b[39m\u001b[39m1\u001b[39m)\n\u001b[1;32m    136\u001b[0m \u001b[39mdef\u001b[39;00m \u001b[39mattr_list\u001b[39m(label: typing\u001b[39m.\u001b[39mOptional[\u001b[39mstr\u001b[39m] \u001b[39m=\u001b[39m \u001b[39mNone\u001b[39;00m,\n\u001b[1;32m    137\u001b[0m               kwargs\u001b[39m=\u001b[39m\u001b[39mNone\u001b[39;00m, attributes\u001b[39m=\u001b[39m\u001b[39mNone\u001b[39;00m) \u001b[39m-\u001b[39m\u001b[39m>\u001b[39m \u001b[39mstr\u001b[39m:\n\u001b[1;32m    138\u001b[0m \u001b[39m    \u001b[39m\u001b[39m\"\"\"Return assembled DOT attribute list string.\u001b[39;00m\n\u001b[1;32m    139\u001b[0m \n\u001b[1;32m    140\u001b[0m \u001b[39m    Sorts ``kwargs`` and ``attributes`` if they are plain dicts\u001b[39;00m\n\u001b[0;32m   (...)\u001b[0m\n\u001b[1;32m    150\u001b[0m \u001b[39m    ' [eggs=\"\"]'\u001b[39;00m\n\u001b[1;32m    151\u001b[0m \u001b[39m    \"\"\"\u001b[39;00m\n\u001b[0;32m--> 152\u001b[0m     content \u001b[39m=\u001b[39m a_list(label, kwargs\u001b[39m=\u001b[39;49mkwargs, attributes\u001b[39m=\u001b[39;49mattributes)\n\u001b[1;32m    153\u001b[0m     \u001b[39mif\u001b[39;00m \u001b[39mnot\u001b[39;00m content:\n\u001b[1;32m    154\u001b[0m         \u001b[39mreturn\u001b[39;00m \u001b[39m'\u001b[39m\u001b[39m'\u001b[39m\n",
      "File \u001b[0;32m~/anaconda3/envs/gupml-conda/lib/python3.10/site-packages/graphviz-0.20.1-py3.10.egg/graphviz/_tools.py:171\u001b[0m, in \u001b[0;36mdeprecate_positional_args.<locals>.decorator.<locals>.wrapper\u001b[0;34m(*args, **kwargs)\u001b[0m\n\u001b[1;32m    162\u001b[0m     wanted \u001b[39m=\u001b[39m \u001b[39m'\u001b[39m\u001b[39m, \u001b[39m\u001b[39m'\u001b[39m\u001b[39m.\u001b[39mjoin(\u001b[39mf\u001b[39m\u001b[39m'\u001b[39m\u001b[39m{\u001b[39;00mname\u001b[39m}\u001b[39;00m\u001b[39m=\u001b[39m\u001b[39m{\u001b[39;00mvalue\u001b[39m!r}\u001b[39;00m\u001b[39m'\u001b[39m\n\u001b[1;32m    163\u001b[0m                        \u001b[39mfor\u001b[39;00m name, value \u001b[39min\u001b[39;00m deprecated\u001b[39m.\u001b[39mitems())\n\u001b[1;32m    164\u001b[0m     warnings\u001b[39m.\u001b[39mwarn(\u001b[39mf\u001b[39m\u001b[39m'\u001b[39m\u001b[39mThe signature of \u001b[39m\u001b[39m{\u001b[39;00mfunc\u001b[39m.\u001b[39m\u001b[39m__name__\u001b[39m\u001b[39m}\u001b[39;00m\u001b[39m will be reduced\u001b[39m\u001b[39m'\u001b[39m\n\u001b[1;32m    165\u001b[0m                   \u001b[39mf\u001b[39m\u001b[39m'\u001b[39m\u001b[39m to \u001b[39m\u001b[39m{\u001b[39;00msupported_number\u001b[39m}\u001b[39;00m\u001b[39m positional args\u001b[39m\u001b[39m'\u001b[39m\n\u001b[1;32m    166\u001b[0m                   \u001b[39mf\u001b[39m\u001b[39m'\u001b[39m\u001b[39m \u001b[39m\u001b[39m{\u001b[39;00m\u001b[39mlist\u001b[39m(supported)\u001b[39m}\u001b[39;00m\u001b[39m: pass \u001b[39m\u001b[39m{\u001b[39;00mwanted\u001b[39m}\u001b[39;00m\u001b[39m'\u001b[39m\n\u001b[1;32m    167\u001b[0m                   \u001b[39m'\u001b[39m\u001b[39m as keyword arg(s)\u001b[39m\u001b[39m'\u001b[39m,\n\u001b[1;32m    168\u001b[0m                   stacklevel\u001b[39m=\u001b[39mstacklevel,\n\u001b[1;32m    169\u001b[0m                   category\u001b[39m=\u001b[39mcategory)\n\u001b[0;32m--> 171\u001b[0m \u001b[39mreturn\u001b[39;00m func(\u001b[39m*\u001b[39;49margs, \u001b[39m*\u001b[39;49m\u001b[39m*\u001b[39;49mkwargs)\n",
      "File \u001b[0;32m~/anaconda3/envs/gupml-conda/lib/python3.10/site-packages/graphviz-0.20.1-py3.10.egg/graphviz/quoting.py:123\u001b[0m, in \u001b[0;36ma_list\u001b[0;34m(label, kwargs, attributes)\u001b[0m\n\u001b[1;32m    115\u001b[0m \u001b[39m@_tools\u001b[39m\u001b[39m.\u001b[39mdeprecate_positional_args(supported_number\u001b[39m=\u001b[39m\u001b[39m1\u001b[39m)\n\u001b[1;32m    116\u001b[0m \u001b[39mdef\u001b[39;00m \u001b[39ma_list\u001b[39m(label: typing\u001b[39m.\u001b[39mOptional[\u001b[39mstr\u001b[39m] \u001b[39m=\u001b[39m \u001b[39mNone\u001b[39;00m,\n\u001b[1;32m    117\u001b[0m            kwargs\u001b[39m=\u001b[39m\u001b[39mNone\u001b[39;00m, attributes\u001b[39m=\u001b[39m\u001b[39mNone\u001b[39;00m) \u001b[39m-\u001b[39m\u001b[39m>\u001b[39m \u001b[39mstr\u001b[39m:\n\u001b[1;32m    118\u001b[0m \u001b[39m    \u001b[39m\u001b[39m\"\"\"Return assembled DOT a_list string.\u001b[39;00m\n\u001b[1;32m    119\u001b[0m \n\u001b[1;32m    120\u001b[0m \u001b[39m    >>> a_list('spam', kwargs={'spam': None, 'ham': 'ham ham', 'eggs': ''})  # doctest: +NO_EXE\u001b[39;00m\n\u001b[1;32m    121\u001b[0m \u001b[39m    'label=spam eggs=\"\" ham=\"ham ham\"'\u001b[39;00m\n\u001b[1;32m    122\u001b[0m \u001b[39m    \"\"\"\u001b[39;00m\n\u001b[0;32m--> 123\u001b[0m     result \u001b[39m=\u001b[39m [\u001b[39mf\u001b[39m\u001b[39m'\u001b[39m\u001b[39mlabel=\u001b[39m\u001b[39m{\u001b[39;00mquote(label)\u001b[39m}\u001b[39;00m\u001b[39m'\u001b[39m] \u001b[39mif\u001b[39;00m label \u001b[39mis\u001b[39;00m \u001b[39mnot\u001b[39;00m \u001b[39mNone\u001b[39;00m \u001b[39melse\u001b[39;00m []\n\u001b[1;32m    124\u001b[0m     \u001b[39mif\u001b[39;00m kwargs:\n\u001b[1;32m    125\u001b[0m         result \u001b[39m+\u001b[39m\u001b[39m=\u001b[39m [\u001b[39mf\u001b[39m\u001b[39m'\u001b[39m\u001b[39m{\u001b[39;00mquote(k)\u001b[39m}\u001b[39;00m\u001b[39m=\u001b[39m\u001b[39m{\u001b[39;00mquote(v)\u001b[39m}\u001b[39;00m\u001b[39m'\u001b[39m\n\u001b[1;32m    126\u001b[0m                    \u001b[39mfor\u001b[39;00m k, v \u001b[39min\u001b[39;00m _tools\u001b[39m.\u001b[39mmapping_items(kwargs) \u001b[39mif\u001b[39;00m v \u001b[39mis\u001b[39;00m \u001b[39mnot\u001b[39;00m \u001b[39mNone\u001b[39;00m]\n",
      "File \u001b[0;32m~/anaconda3/envs/gupml-conda/lib/python3.10/site-packages/graphviz-0.20.1-py3.10.egg/graphviz/_tools.py:171\u001b[0m, in \u001b[0;36mdeprecate_positional_args.<locals>.decorator.<locals>.wrapper\u001b[0;34m(*args, **kwargs)\u001b[0m\n\u001b[1;32m    162\u001b[0m     wanted \u001b[39m=\u001b[39m \u001b[39m'\u001b[39m\u001b[39m, \u001b[39m\u001b[39m'\u001b[39m\u001b[39m.\u001b[39mjoin(\u001b[39mf\u001b[39m\u001b[39m'\u001b[39m\u001b[39m{\u001b[39;00mname\u001b[39m}\u001b[39;00m\u001b[39m=\u001b[39m\u001b[39m{\u001b[39;00mvalue\u001b[39m!r}\u001b[39;00m\u001b[39m'\u001b[39m\n\u001b[1;32m    163\u001b[0m                        \u001b[39mfor\u001b[39;00m name, value \u001b[39min\u001b[39;00m deprecated\u001b[39m.\u001b[39mitems())\n\u001b[1;32m    164\u001b[0m     warnings\u001b[39m.\u001b[39mwarn(\u001b[39mf\u001b[39m\u001b[39m'\u001b[39m\u001b[39mThe signature of \u001b[39m\u001b[39m{\u001b[39;00mfunc\u001b[39m.\u001b[39m\u001b[39m__name__\u001b[39m\u001b[39m}\u001b[39;00m\u001b[39m will be reduced\u001b[39m\u001b[39m'\u001b[39m\n\u001b[1;32m    165\u001b[0m                   \u001b[39mf\u001b[39m\u001b[39m'\u001b[39m\u001b[39m to \u001b[39m\u001b[39m{\u001b[39;00msupported_number\u001b[39m}\u001b[39;00m\u001b[39m positional args\u001b[39m\u001b[39m'\u001b[39m\n\u001b[1;32m    166\u001b[0m                   \u001b[39mf\u001b[39m\u001b[39m'\u001b[39m\u001b[39m \u001b[39m\u001b[39m{\u001b[39;00m\u001b[39mlist\u001b[39m(supported)\u001b[39m}\u001b[39;00m\u001b[39m: pass \u001b[39m\u001b[39m{\u001b[39;00mwanted\u001b[39m}\u001b[39;00m\u001b[39m'\u001b[39m\n\u001b[1;32m    167\u001b[0m                   \u001b[39m'\u001b[39m\u001b[39m as keyword arg(s)\u001b[39m\u001b[39m'\u001b[39m,\n\u001b[1;32m    168\u001b[0m                   stacklevel\u001b[39m=\u001b[39mstacklevel,\n\u001b[1;32m    169\u001b[0m                   category\u001b[39m=\u001b[39mcategory)\n\u001b[0;32m--> 171\u001b[0m \u001b[39mreturn\u001b[39;00m func(\u001b[39m*\u001b[39;49margs, \u001b[39m*\u001b[39;49m\u001b[39m*\u001b[39;49mkwargs)\n",
      "File \u001b[0;32m~/anaconda3/envs/gupml-conda/lib/python3.10/site-packages/graphviz-0.20.1-py3.10.egg/graphviz/quoting.py:82\u001b[0m, in \u001b[0;36mquote\u001b[0;34m(identifier, is_html_string, is_valid_id, dot_keywords, endswith_odd_number_of_backslashes, escape_unescaped_quotes)\u001b[0m\n\u001b[1;32m     40\u001b[0m \u001b[39m@_tools\u001b[39m\u001b[39m.\u001b[39mdeprecate_positional_args(supported_number\u001b[39m=\u001b[39m\u001b[39m1\u001b[39m)\n\u001b[1;32m     41\u001b[0m \u001b[39mdef\u001b[39;00m \u001b[39mquote\u001b[39m(identifier: \u001b[39mstr\u001b[39m,\n\u001b[1;32m     42\u001b[0m           is_html_string\u001b[39m=\u001b[39mHTML_STRING\u001b[39m.\u001b[39mmatch,\n\u001b[0;32m   (...)\u001b[0m\n\u001b[1;32m     45\u001b[0m           endswith_odd_number_of_backslashes\u001b[39m=\u001b[39mFINAL_ODD_BACKSLASHES\u001b[39m.\u001b[39msearch,\n\u001b[1;32m     46\u001b[0m           escape_unescaped_quotes\u001b[39m=\u001b[39mESCAPE_UNESCAPED_QUOTES) \u001b[39m-\u001b[39m\u001b[39m>\u001b[39m \u001b[39mstr\u001b[39m:\n\u001b[1;32m     47\u001b[0m \u001b[39m    \u001b[39m\u001b[39mr\u001b[39m\u001b[39m\"\"\"Return DOT identifier from string, quote if needed.\u001b[39;00m\n\u001b[1;32m     48\u001b[0m \n\u001b[1;32m     49\u001b[0m \u001b[39m    >>> quote('')  # doctest: +NO_EXE\u001b[39;00m\n\u001b[0;32m   (...)\u001b[0m\n\u001b[1;32m     80\u001b[0m \u001b[39m    \"\\\\\\\"\"\u001b[39;00m\n\u001b[1;32m     81\u001b[0m \u001b[39m    \"\"\"\u001b[39;00m\n\u001b[0;32m---> 82\u001b[0m     \u001b[39mif\u001b[39;00m is_html_string(identifier) \u001b[39mand\u001b[39;00m \u001b[39mnot\u001b[39;00m \u001b[39misinstance\u001b[39m(identifier, NoHtml):\n\u001b[1;32m     83\u001b[0m         \u001b[39mpass\u001b[39;00m\n\u001b[1;32m     84\u001b[0m     \u001b[39melif\u001b[39;00m \u001b[39mnot\u001b[39;00m is_valid_id(identifier) \u001b[39mor\u001b[39;00m identifier\u001b[39m.\u001b[39mlower() \u001b[39min\u001b[39;00m dot_keywords:\n",
      "\u001b[0;31mTypeError\u001b[0m: cannot use a string pattern on a bytes-like object"
     ]
    }
   ],
   "source": [
    "\n",
    "def export_graphviz(tree, feature_names, class_names):\n",
    "    dot = graphviz.Digraph()\n",
    "\n",
    "    def add_node(node):\n",
    "        # Get the node ID and label\n",
    "        node_id = str(id(node))\n",
    "        if node.value is not None:\n",
    "            # Leaf Node\n",
    "            node_label = node.value\n",
    "            print('adding leaf node')\n",
    "            dot.node(node_id)#, label=node_label)\n",
    "        else:\n",
    "            print('NON-LEAF')\n",
    "            # Non-leaf Node\n",
    "            node_label = str(node.feature_index)\n",
    "            dot.node(node_id, label=node_label)\n",
    "            left_child, right_child = node.children\n",
    "\n",
    "            # Build children\n",
    "            dot.edge(node_id, str(id(left_child)), label='True')\n",
    "            dot.edge(node_id, str(id(right_child)), label='False')\n",
    "            add_node(left_child)\n",
    "            add_node(right_child)\n",
    "        \n",
    "    add_node(tree.root)\n",
    "\n",
    "    return dot.source\n",
    "\n",
    "\n",
    "print(export_graphviz(rf.trees[0], feature_names=None, class_names=None))\n"
   ]
  },
  {
   "cell_type": "code",
   "execution_count": null,
   "metadata": {},
   "outputs": [],
   "source": [
    "X_test = X_train\n",
    "predictions = rf.predict(X_test)\n",
    "print(predictions)"
   ]
  }
 ],
 "metadata": {
  "kernelspec": {
   "display_name": "gupml",
   "language": "python",
   "name": "python3"
  },
  "language_info": {
   "codemirror_mode": {
    "name": "ipython",
    "version": 3
   },
   "file_extension": ".py",
   "mimetype": "text/x-python",
   "name": "python",
   "nbconvert_exporter": "python",
   "pygments_lexer": "ipython3",
   "version": "3.10.9"
  },
  "orig_nbformat": 4
 },
 "nbformat": 4,
 "nbformat_minor": 2
}
