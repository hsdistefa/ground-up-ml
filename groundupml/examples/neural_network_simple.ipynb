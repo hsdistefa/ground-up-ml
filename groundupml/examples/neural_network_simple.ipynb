{
 "cells": [
  {
   "cell_type": "code",
   "execution_count": 1,
   "metadata": {},
   "outputs": [],
   "source": [
    "import matplotlib.pyplot as plt\n",
    "import numpy as np\n",
    "\n",
    "from sklearn import datasets\n",
    "\n",
    "from groundupml.utils.data_manipulation import split_data\n",
    "#from groundupml.utils.data_tools import confusion_matrix\n",
    "from groundupml.utils.functions import one_hot_to_class, sigmoid, to_one_hot\n",
    "\n",
    "%matplotlib inline"
   ]
  },
  {
   "cell_type": "code",
   "execution_count": 2,
   "metadata": {},
   "outputs": [
    {
     "name": "stdout",
     "output_type": "stream",
     "text": [
      "Train shapes (120, 4) (120, 3)\n",
      "Test shapes (30, 4) (30, 3)\n"
     ]
    }
   ],
   "source": [
    "\n",
    "def scale_min_max(data):\n",
    "    col_mins = np.nanmin(data, axis=0)\n",
    "    col_maxes = np.nanmax(data, axis=0)\n",
    "    data_scaled = (data - col_mins) / (col_maxes - col_mins)\n",
    "\n",
    "    return data_scaled \n",
    "\n",
    "# Load data\n",
    "iris = datasets.load_iris()\n",
    "X = iris.data\n",
    "y = iris.target\n",
    "\n",
    "# Split into train and test sets\n",
    "X_train, y_train, X_test, y_test = split_data(X, y, proportion=0.8)\n",
    "\n",
    "# Scale features to be between 0 and 1 for NN\n",
    "X_train = scale_min_max(X_train)\n",
    "X_test = scale_min_max(X_test)\n",
    "\n",
    "# Convert labels to one hot vectors\n",
    "y_train = to_one_hot(y_train)\n",
    "y_test = to_one_hot(y_test)\n",
    "\n",
    "\n",
    "print('Train shapes', X_train.shape, y_train.shape)\n",
    "print('Test shapes', X_test.shape, y_test.shape)"
   ]
  },
  {
   "cell_type": "code",
   "execution_count": 3,
   "metadata": {},
   "outputs": [
    {
     "name": "stdout",
     "output_type": "stream",
     "text": [
      "\n",
      "Input: 4\n",
      "Hidden: 3\n",
      "Output: 3\n",
      "[[ 1.62434536 -0.61175641 -0.52817175]\n",
      " [-1.07296862  0.86540763 -2.3015387 ]\n",
      " [ 1.74481176 -0.7612069   0.3190391 ]\n",
      " [-0.24937038  1.46210794 -2.06014071]]\n",
      "\n",
      "[[-1.09989127 -0.17242821 -0.87785842]\n",
      " [ 0.04221375  0.58281521 -1.10061918]\n",
      " [ 1.14472371  0.90159072  0.50249434]]\n"
     ]
    }
   ],
   "source": [
    "# Define weight and bias matrices\n",
    "\n",
    "np.random.seed(1)  # For consistency when initializing matrices\n",
    "\n",
    "n_samples, n_features = X_train.shape\n",
    "INPUT_LAYER_SIZE = n_features  # Input layer has same number of nodes as X has features\n",
    "HIDDEN_LAYER_SIZE = 3\n",
    "OUTPUT_LAYER_SIZE = y_train.shape[1]  # Number of classes for classification\n",
    "\n",
    "print(f'''\n",
    "Input: {INPUT_LAYER_SIZE}\n",
    "Hidden: {HIDDEN_LAYER_SIZE}\n",
    "Output: {OUTPUT_LAYER_SIZE}''')\n",
    "\n",
    "# 4x3 weight matrix 1\n",
    "W1 = np.random.randn(INPUT_LAYER_SIZE,  \n",
    "                     HIDDEN_LAYER_SIZE)\n",
    "\n",
    "# Bias matrix 1 -- X*W1 -> (n_samples, HIDDEN_SIZE)\n",
    "B1 = np.random.randn(HIDDEN_LAYER_SIZE,\n",
    "                     1)\n",
    "\n",
    "# 3x3 weight matrix 2\n",
    "W2 = np.random.randn(HIDDEN_LAYER_SIZE,\n",
    "                     OUTPUT_LAYER_SIZE)\n",
    "\n",
    "# Bias matrix 2\n",
    "B2 = np.random.randn(OUTPUT_LAYER_SIZE,\n",
    "                     1)\n",
    "\n",
    "print(W1)\n",
    "print()\n",
    "print(W2)"
   ]
  },
  {
   "cell_type": "code",
   "execution_count": 4,
   "metadata": {},
   "outputs": [],
   "source": [
    "def sigmoid_prime(x):\n",
    "    # Returns the result of the derivative of the sigmoid function applied to x\n",
    "    return np.exp(-x) / (1 + np.exp(-x))**2\n",
    "\n",
    "def squared_error(y_actual, y_pred):\n",
    "    return 0.5 * np.sum((y_actual - y_pred)**2)"
   ]
  },
  {
   "cell_type": "code",
   "execution_count": 5,
   "metadata": {},
   "outputs": [
    {
     "data": {
      "text/plain": [
       "[<matplotlib.lines.Line2D at 0x7f87c44c6050>]"
      ]
     },
     "execution_count": 5,
     "metadata": {},
     "output_type": "execute_result"
    },
    {
     "data": {
      "image/png": "[encoded data removed]",
      "text/plain": [
       "<Figure size 640x480 with 1 Axes>"
      ]
     },
     "metadata": {},
     "output_type": "display_data"
    }
   ],
   "source": [
    "n_epochs = 10000\n",
    "learning_rate = 1e-2\n",
    "\n",
    "costs = []\n",
    "for i in range(n_epochs):\n",
    "    # Forward propogation\n",
    "    Z2 = X_train.dot(W1) + B1.T\n",
    "    A2 = sigmoid(Z2)\n",
    "    Z3 = A2.dot(W2) + B2.T\n",
    "    y_pred = sigmoid(Z3)\n",
    "    costs.append(squared_error(y_pred, y_train))\n",
    "\n",
    "    # Backward propogation\n",
    "\n",
    "    # Calculate gradients\n",
    "    delta3 = -(y_train - y_pred) * sigmoid_prime(Z3)\n",
    "    partialj_wrt_w2 = np.dot(A2.T, delta3)\n",
    "\n",
    "    delta2 = np.dot(delta3, W2.T) * sigmoid_prime(Z2)\n",
    "    partialj_wrt_w1 = np.dot(X_train.T, delta2)\n",
    "\n",
    "    # NOTE: equivalent to np.sum(delta.T, axis=1)\n",
    "    # TODO: Check if math is correct\n",
    "    partialj_wrt_b2 = np.dot(delta3.T, np.ones((delta3.shape[0], 1)))  \n",
    "    partialj_wrt_b1 = np.dot(delta2.T, np.ones((delta2.shape[0], 1)))\n",
    "\n",
    "\n",
    "    # Update weights using calculated gradients\n",
    "    W1 -= learning_rate * partialj_wrt_w1\n",
    "    W2 -= learning_rate * partialj_wrt_w2\n",
    "    B1 -= learning_rate * partialj_wrt_b1\n",
    "    B2 -= learning_rate * partialj_wrt_b2\n",
    "\n",
    "plt.plot(costs)"
   ]
  },
  {
   "cell_type": "code",
   "execution_count": 6,
   "metadata": {},
   "outputs": [
    {
     "name": "stdout",
     "output_type": "stream",
     "text": [
      "(1, 3)\n",
      "[[9.88926381e-01 1.76589420e-02 1.37758306e-06]\n",
      " [9.50466353e-04 6.94072078e-03 9.95553755e-01]\n",
      " [9.89915581e-01 1.57261712e-02 1.26057999e-06]\n",
      " [9.18920746e-04 6.34904654e-03 9.96072330e-01]\n",
      " [7.70142084e-03 9.81990933e-01 1.29037965e-02]\n",
      " [9.93835151e-01 8.16898460e-03 7.75680930e-07]\n",
      " [1.06501793e-03 1.13843221e-02 9.92405534e-01]\n",
      " [7.58043170e-03 9.73001889e-01 1.74295877e-02]\n",
      " [7.69593987e-03 9.61336253e-01 2.18545608e-02]\n",
      " [9.04664873e-04 5.97195822e-03 9.96337453e-01]\n",
      " [9.23287433e-03 9.76428103e-01 1.13389531e-02]\n",
      " [9.88778751e-01 1.81598816e-02 1.40303689e-06]\n",
      " [5.14794466e-03 9.19145816e-01 7.15674536e-02]\n",
      " [9.92350801e-01 1.10993669e-02 9.68049435e-07]\n",
      " [1.29927978e-03 2.06049864e-02 9.83806015e-01]\n",
      " [1.24098865e-03 1.92707747e-02 9.85754595e-01]\n",
      " [1.42621187e-02 9.90200062e-01 2.90123305e-03]\n",
      " [1.95949778e-03 1.31644333e-01 8.86392998e-01]\n",
      " [1.76022532e-03 1.01260275e-01 9.20505720e-01]\n",
      " [2.69948053e-03 4.08783288e-01 6.14832128e-01]\n",
      " [6.09088261e-03 9.14816888e-01 5.60789844e-02]\n",
      " [9.77294588e-04 6.90064602e-03 9.95324458e-01]\n",
      " [8.21766001e-03 9.70084973e-01 1.63540374e-02]\n",
      " [1.19115453e-03 1.74709950e-02 9.87626042e-01]\n",
      " [9.24275531e-04 6.12328198e-03 9.96111394e-01]\n",
      " [9.91184307e-01 1.32076474e-02 1.10585053e-06]\n",
      " [1.20542531e-02 9.89199995e-01 4.14929933e-03]\n",
      " [9.78846129e-04 7.84259571e-03 9.94911932e-01]\n",
      " [1.06843121e-02 9.87935002e-01 5.52117624e-03]\n",
      " [8.96922454e-03 9.71038778e-01 1.37354015e-02]]\n"
     ]
    }
   ],
   "source": [
    "# Get test predictions\n",
    "\n",
    "print(B1.T.shape)\n",
    "\n",
    "# Forward propogate using trained weights\n",
    "Z2 = X_test.dot(W1) + B1.T\n",
    "A2 = sigmoid(Z2)\n",
    "Z3 = A2.dot(W2) + B2.T\n",
    "y_pred = sigmoid(Z3)\n",
    "\n",
    "print(y_pred)\n"
   ]
  },
  {
   "cell_type": "code",
   "execution_count": 7,
   "metadata": {},
   "outputs": [],
   "source": [
    "\n",
    "# TODO: Use the one in data_tools\n",
    "def confusion_matrix(actual, predicted):\n",
    "    # TODO: documentation\n",
    "    # Extract the classes so we know confusion matrix size\n",
    "    classes = np.unique(actual)\n",
    "    n_classes = len(classes)\n",
    "\n",
    "    # Initialize the confusion matrix\n",
    "    conf_matrix = np.zeros((n_classes, n_classes))\n",
    "\n",
    "    # Construct confusion matrix\n",
    "    for i, actual_class in enumerate(classes):\n",
    "        for j, predicted_class in enumerate(classes):\n",
    "            conf_matrix[i, j] = np.sum((actual == actual_class) & \\\n",
    "                                       (predicted == predicted_class))\n",
    "\n",
    "    return conf_matrix"
   ]
  },
  {
   "cell_type": "code",
   "execution_count": 8,
   "metadata": {},
   "outputs": [
    {
     "name": "stdout",
     "output_type": "stream",
     "text": [
      "[0 2 0 2 1 0 2 1 1 2 1 0 1 0 2 2 1 2 2 2 1 2 1 2 2 0 1 2 1 1]\n",
      "[0 2 0 2 1 0 2 1 1 2 1 0 1 0 2 2 1 1 2 1 1 2 1 2 2 0 1 2 1 1]\n",
      "[[ 6.  0.  0.]\n",
      " [ 0. 11.  2.]\n",
      " [ 0.  0. 11.]]\n"
     ]
    }
   ],
   "source": [
    "predictions = np.argmax(y_pred, axis=1)\n",
    "actual = one_hot_to_class(y_test)\n",
    "print(predictions)\n",
    "print(actual)\n",
    "\n",
    "print(confusion_matrix(actual, predictions))"
   ]
  }
 ],
 "metadata": {
  "kernelspec": {
   "display_name": "kaggle",
   "language": "python",
   "name": "python3"
  },
  "language_info": {
   "codemirror_mode": {
    "name": "ipython",
    "version": 3
   },
   "file_extension": ".py",
   "mimetype": "text/x-python",
   "name": "python",
   "nbconvert_exporter": "python",
   "pygments_lexer": "ipython3",
   "version": "3.10.9"
  },
  "orig_nbformat": 4
 },
 "nbformat": 4,
 "nbformat_minor": 2
}
