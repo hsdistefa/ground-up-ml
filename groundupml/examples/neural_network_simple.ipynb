{
 "cells": [
  {
   "cell_type": "code",
   "execution_count": 2,
   "metadata": {},
   "outputs": [],
   "source": [
    "import matplotlib.pyplot as plt\n",
    "import numpy as np\n",
    "\n",
    "from sklearn import datasets\n",
    "\n",
    "from groundupml.utils.data_manipulation import split_data\n",
    "from groundupml.utils.data_tools import confusion_matrix\n",
    "from groundupml.utils.functions import one_hot_to_class, sigmoid, to_one_hot\n",
    "\n",
    "%matplotlib inline"
   ]
  },
  {
   "cell_type": "code",
   "execution_count": 3,
   "metadata": {},
   "outputs": [
    {
     "name": "stdout",
     "output_type": "stream",
     "text": [
      "Train shapes (120, 4) (120, 3)\n",
      "Test shapes (30, 4) (30, 3)\n"
     ]
    }
   ],
   "source": [
    "\n",
    "def scale_min_max(data):\n",
    "    col_mins = np.nanmin(data, axis=0)\n",
    "    col_maxes = np.nanmax(data, axis=0)\n",
    "    data_scaled = (data - col_mins) / (col_maxes - col_mins)\n",
    "\n",
    "    return data_scaled \n",
    "\n",
    "# Load data\n",
    "iris = datasets.load_iris()\n",
    "X = iris.data\n",
    "y = iris.target\n",
    "\n",
    "# Split into train and test sets\n",
    "X_train, y_train, X_test, y_test = split_data(X, y, proportion=0.8)\n",
    "\n",
    "# Scale features to be between 0 and 1 for NN\n",
    "X_train = scale_min_max(X_train)\n",
    "X_test = scale_min_max(X_test)\n",
    "\n",
    "# Convert labels to one hot vectors\n",
    "y_train = to_one_hot(y_train)\n",
    "y_test = to_one_hot(y_test)\n",
    "\n",
    "\n",
    "print('Train shapes', X_train.shape, y_train.shape)\n",
    "print('Test shapes', X_test.shape, y_test.shape)"
   ]
  },
  {
   "cell_type": "code",
   "execution_count": 4,
   "metadata": {},
   "outputs": [
    {
     "name": "stdout",
     "output_type": "stream",
     "text": [
      "\n",
      "Input: 4\n",
      "Hidden: 3\n",
      "Output: 3\n",
      "[[ 1.62434536 -0.61175641 -0.52817175]\n",
      " [-1.07296862  0.86540763 -2.3015387 ]\n",
      " [ 1.74481176 -0.7612069   0.3190391 ]\n",
      " [-0.24937038  1.46210794 -2.06014071]]\n",
      "\n",
      "[[-1.09989127 -0.17242821 -0.87785842]\n",
      " [ 0.04221375  0.58281521 -1.10061918]\n",
      " [ 1.14472371  0.90159072  0.50249434]]\n"
     ]
    }
   ],
   "source": [
    "# Define weight and bias matrices\n",
    "\n",
    "np.random.seed(1)  # For consistency when initializing matrices\n",
    "\n",
    "n_samples, n_features = X_train.shape\n",
    "INPUT_LAYER_SIZE = n_features  # Input layer has same number of nodes as X has features\n",
    "HIDDEN_LAYER_SIZE = 3\n",
    "OUTPUT_LAYER_SIZE = y_train.shape[1]  # Number of classes for classification\n",
    "\n",
    "print(f'''\n",
    "Input: {INPUT_LAYER_SIZE}\n",
    "Hidden: {HIDDEN_LAYER_SIZE}\n",
    "Output: {OUTPUT_LAYER_SIZE}''')\n",
    "\n",
    "# 4x3 weight matrix 1\n",
    "W1 = np.random.randn(INPUT_LAYER_SIZE,  \n",
    "                     HIDDEN_LAYER_SIZE)\n",
    "\n",
    "# Bias matrix 1 -- X*W1 -> (n_samples, HIDDEN_SIZE)\n",
    "B1 = np.random.randn(HIDDEN_LAYER_SIZE,\n",
    "                     1)\n",
    "\n",
    "# 3x3 weight matrix 2\n",
    "W2 = np.random.randn(HIDDEN_LAYER_SIZE,\n",
    "                     OUTPUT_LAYER_SIZE)\n",
    "\n",
    "# Bias matrix 2\n",
    "B2 = np.random.randn(OUTPUT_LAYER_SIZE,\n",
    "                     1)\n",
    "\n",
    "print(W1)\n",
    "print()\n",
    "print(W2)"
   ]
  },
  {
   "cell_type": "code",
   "execution_count": 5,
   "metadata": {},
   "outputs": [],
   "source": [
    "def sigmoid_prime(x):\n",
    "    # Returns the result of the derivative of the sigmoid function applied to x\n",
    "    return np.exp(-x) / (1 + np.exp(-x))**2\n",
    "\n",
    "def squared_error(y_actual, y_pred):\n",
    "    return 0.5 * np.sum((y_actual - y_pred)**2)"
   ]
  },
  {
   "cell_type": "code",
   "execution_count": 6,
   "metadata": {},
   "outputs": [
    {
     "data": {
      "text/plain": [
       "[<matplotlib.lines.Line2D at 0x7f3713531570>]"
      ]
     },
     "execution_count": 6,
     "metadata": {},
     "output_type": "execute_result"
    },
    {
     "data": {
      "image/png": "[encoded data removed]",
      "text/plain": [
       "<Figure size 640x480 with 1 Axes>"
      ]
     },
     "metadata": {},
     "output_type": "display_data"
    }
   ],
   "source": [
    "n_epochs = 10000\n",
    "learning_rate = 1e-2\n",
    "\n",
    "costs = []\n",
    "for i in range(n_epochs):\n",
    "    # Forward propogation\n",
    "    Z2 = X_train.dot(W1) + B1.T\n",
    "    A2 = sigmoid(Z2)\n",
    "    Z3 = A2.dot(W2) + B2.T\n",
    "    y_pred = sigmoid(Z3)\n",
    "    costs.append(squared_error(y_pred, y_train))\n",
    "\n",
    "    # Backward propogation\n",
    "\n",
    "    # Calculate gradients\n",
    "    delta3 = -(y_train - y_pred) * sigmoid_prime(Z3)\n",
    "    partialj_wrt_w2 = np.dot(A2.T, delta3)\n",
    "\n",
    "    delta2 = np.dot(delta3, W2.T) * sigmoid_prime(Z2)\n",
    "    partialj_wrt_w1 = np.dot(X_train.T, delta2)\n",
    "\n",
    "    # NOTE: equivalent to np.sum(delta.T, axis=1)\n",
    "    # TODO: Check if math is correct\n",
    "    partialj_wrt_b2 = np.dot(delta3.T, np.ones((delta3.shape[0], 1)))  \n",
    "    partialj_wrt_b1 = np.dot(delta2.T, np.ones((delta2.shape[0], 1)))\n",
    "\n",
    "\n",
    "    # Update weights using calculated gradients\n",
    "    W1 -= learning_rate * partialj_wrt_w1\n",
    "    W2 -= learning_rate * partialj_wrt_w2\n",
    "    B1 -= learning_rate * partialj_wrt_b1\n",
    "    B2 -= learning_rate * partialj_wrt_b2\n",
    "\n",
    "plt.plot(costs)"
   ]
  },
  {
   "cell_type": "code",
   "execution_count": 7,
   "metadata": {},
   "outputs": [
    {
     "name": "stdout",
     "output_type": "stream",
     "text": [
      "(1, 3)\n",
      "[[8.96178297e-01 1.75576914e-01 1.73563032e-05]\n",
      " [9.16919227e-03 9.66641076e-01 1.88518307e-02]\n",
      " [9.91250449e-01 1.25348666e-02 1.79465892e-06]\n",
      " [9.91448488e-01 1.20724083e-02 1.74610579e-06]\n",
      " [1.25612529e-03 1.27753472e-02 9.89443240e-01]\n",
      " [1.51434454e-03 3.48337969e-02 9.72229667e-01]\n",
      " [9.92901869e-01 9.45163280e-03 1.44640302e-06]\n",
      " [1.32763871e-02 9.87724353e-01 5.18925493e-03]\n",
      " [7.24265759e-03 9.63668962e-01 2.98405534e-02]\n",
      " [1.27193863e-03 1.69591992e-02 9.87160739e-01]\n",
      " [7.24554582e-03 9.74172280e-01 2.40673408e-02]\n",
      " [1.68359204e-03 5.40585506e-02 9.55636886e-01]\n",
      " [9.98589586e-03 9.82229684e-01 1.07350790e-02]\n",
      " [2.20423259e-03 1.75623808e-01 8.51819501e-01]\n",
      " [9.91725794e-01 1.16703342e-02 1.69781174e-06]\n",
      " [1.04263848e-03 7.82640666e-03 9.94559508e-01]\n",
      " [9.92039319e-01 1.09697955e-02 1.62253997e-06]\n",
      " [1.80093856e-03 8.03539288e-02 9.35970431e-01]\n",
      " [1.28240525e-03 1.48611014e-02 9.87946752e-01]\n",
      " [1.16311497e-03 1.07892528e-02 9.91790034e-01]\n",
      " [1.06612310e-02 9.60446242e-01 1.65688529e-02]\n",
      " [5.04095676e-03 8.97635807e-01 1.07604703e-01]\n",
      " [9.90809378e-01 1.33834544e-02 1.88725380e-06]\n",
      " [1.52972337e-03 3.44665053e-02 9.71842247e-01]\n",
      " [2.00419405e-03 1.22603863e-01 8.99443424e-01]\n",
      " [9.90156919e-01 1.45822701e-02 2.01840535e-06]\n",
      " [9.91912972e-01 1.12431303e-02 1.65221156e-06]\n",
      " [1.12671101e-03 9.85616370e-03 9.92693890e-01]\n",
      " [2.09335444e-03 8.26638329e-02 9.15634650e-01]\n",
      " [9.83514161e-01 2.66090488e-02 3.27123416e-06]]\n"
     ]
    }
   ],
   "source": [
    "# Get test predictions\n",
    "\n",
    "print(B1.T.shape)\n",
    "\n",
    "# Forward propogate using trained weights\n",
    "Z2 = X_test.dot(W1) + B1.T\n",
    "A2 = sigmoid(Z2)\n",
    "Z3 = A2.dot(W2) + B2.T\n",
    "y_pred = sigmoid(Z3)\n",
    "\n",
    "print(y_pred)\n"
   ]
  },
  {
   "cell_type": "code",
   "execution_count": 9,
   "metadata": {},
   "outputs": [
    {
     "name": "stdout",
     "output_type": "stream",
     "text": [
      "[0 1 0 0 2 2 0 1 1 2 1 2 1 2 0 2 0 2 2 2 1 1 0 2 2 0 0 2 2 0]\n",
      "[0 1 0 0 2 2 0 1 1 2 1 2 1 1 0 2 0 1 2 2 1 1 0 2 2 0 0 2 2 0]\n",
      "[[10.  0.  0.]\n",
      " [ 0.  7.  2.]\n",
      " [ 0.  0. 11.]]\n"
     ]
    }
   ],
   "source": [
    "predictions = np.argmax(y_pred, axis=1)\n",
    "actual = one_hot_to_class(y_test)\n",
    "print(predictions)\n",
    "print(actual)\n",
    "\n",
    "print(confusion_matrix(actual, predictions))"
   ]
  }
 ],
 "metadata": {
  "kernelspec": {
   "display_name": "kaggle",
   "language": "python",
   "name": "python3"
  },
  "language_info": {
   "codemirror_mode": {
    "name": "ipython",
    "version": 3
   },
   "file_extension": ".py",
   "mimetype": "text/x-python",
   "name": "python",
   "nbconvert_exporter": "python",
   "pygments_lexer": "ipython3",
   "version": "3.10.9"
  },
  "orig_nbformat": 4
 },
 "nbformat": 4,
 "nbformat_minor": 2
}
